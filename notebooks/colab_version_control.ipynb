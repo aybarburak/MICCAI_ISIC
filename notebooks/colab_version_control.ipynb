{
 "cells": [
  {
   "cell_type": "markdown",
   "metadata": {
    "colab_type": "text",
    "id": "eW_T2KVK_EQ6"
   },
   "source": [
    "### If you do not have key.zip, please check setup_gitlab.ipynb\n",
    "\n",
    "#### 1. upload key.zip manually"
   ]
  },
  {
   "cell_type": "code",
   "execution_count": 0,
   "metadata": {
    "colab": {},
    "colab_type": "code",
    "id": "leYOvPr7_Q5F"
   },
   "outputs": [],
   "source": [
    "!unzip /content/key.zip \n",
    "!rm -r /root/.ssh\n",
    "!mv /content/root/.ssh /root/.ssh\n",
    "!rm -r /content/root\n",
    "!chmod 700 /root/.ssh/id_rsa\n",
    "!touch /root/.ssh/known_hosts\n",
    "!ssh-keyscan gitlab.lrz.de >> /root/.ssh/known_hosts\n",
    "!chmod 644 /root/.ssh/known_hosts\n",
    "!git config --global user.name \"firstName lastName\"\n",
    "!git config --global user.email \"your_email@tum.de\""
   ]
  },
  {
   "cell_type": "markdown",
   "metadata": {
    "colab_type": "text",
    "id": "sT0-GyxtCbON"
   },
   "source": [
    "### Run following Command then write\n",
    "1. ssh-add /root/.ssh/id_rsa\n",
    "2. ssh-add -l\n",
    "3. git clone git@gitlab.lrz.de:ge46noy/mlmi-miccai_isic.git\n",
    "4. exit"
   ]
  },
  {
   "cell_type": "code",
   "execution_count": 0,
   "metadata": {
    "colab": {},
    "colab_type": "code",
    "id": "CbiXlrK1Cc-1"
   },
   "outputs": [],
   "source": [
    "!ssh-agent /bin/bash"
   ]
  },
  {
   "cell_type": "markdown",
   "metadata": {},
   "source": [
    "### Required Libraries Installation"
   ]
  },
  {
   "cell_type": "code",
   "execution_count": null,
   "metadata": {},
   "outputs": [],
   "source": [
    "!pip install efficientnet_pytorch torchtoolbox colorama"
   ]
  },
  {
   "cell_type": "markdown",
   "metadata": {
    "colab_type": "text",
    "id": "aCnXQ7L4DRVw"
   },
   "source": [
    "### After code modification\n",
    "1. !git add .\n",
    "2. !git commit -m \"example\"\n",
    "3. !git push\n",
    "4. !git pull\n",
    "\n",
    "\n",
    "**Checkout branch**\n",
    "!git checkout < branch name >\n",
    "\n",
    "**else**\n",
    "https://education.github.com/git-cheat-sheet-education.pdf"
   ]
  },
  {
   "cell_type": "markdown",
   "metadata": {},
   "source": [
    "### Change Directory to git local project directory"
   ]
  },
  {
   "cell_type": "markdown",
   "metadata": {},
   "source": [
    "required before running any git commands\n"
   ]
  },
  {
   "cell_type": "code",
   "execution_count": null,
   "metadata": {},
   "outputs": [],
   "source": [
    "cd mlmi-miccai_isic"
   ]
  },
  {
   "cell_type": "markdown",
   "metadata": {},
   "source": [
    "### Push code to repo:"
   ]
  },
  {
   "cell_type": "code",
   "execution_count": null,
   "metadata": {},
   "outputs": [],
   "source": [
    "!git add ."
   ]
  },
  {
   "cell_type": "code",
   "execution_count": null,
   "metadata": {},
   "outputs": [],
   "source": [
    "# make sure that there is no hidden files or any extra unrequired files staged\n",
    "!git status"
   ]
  },
  {
   "cell_type": "code",
   "execution_count": null,
   "metadata": {},
   "outputs": [],
   "source": [
    "!git commit -m \"example\""
   ]
  },
  {
   "cell_type": "code",
   "execution_count": null,
   "metadata": {},
   "outputs": [],
   "source": [
    "!git push"
   ]
  },
  {
   "cell_type": "markdown",
   "metadata": {},
   "source": [
    "### Pull from the repo:"
   ]
  },
  {
   "cell_type": "code",
   "execution_count": null,
   "metadata": {},
   "outputs": [],
   "source": [
    "!git pull"
   ]
  },
  {
   "cell_type": "markdown",
   "metadata": {
    "colab_type": "text",
    "id": "6gPj1X9kHOUW"
   },
   "source": [
    "### Training:"
   ]
  },
  {
   "cell_type": "code",
   "execution_count": 0,
   "metadata": {
    "colab": {},
    "colab_type": "code",
    "id": "JYHyZAayFPJv"
   },
   "outputs": [],
   "source": [
    "!python -W ignore /content/mlmi-miccai_isic/src/run_job.py"
   ]
  },
  {
   "cell_type": "markdown",
   "metadata": {},
   "source": [
    "### Testing: (Run only if you want to run test on specific model. but anyway training includes testing phase)"
   ]
  },
  {
   "cell_type": "code",
   "execution_count": null,
   "metadata": {},
   "outputs": [],
   "source": [
    "!python -W ignore /content/mlmi-miccai_isic/src/test.py"
   ]
  },
  {
   "cell_type": "markdown",
   "metadata": {
    "colab_type": "text",
    "id": "Yo-PKeKbKsmv"
   },
   "source": [
    "### Results Zipping:"
   ]
  },
  {
   "cell_type": "code",
   "execution_count": 0,
   "metadata": {
    "colab": {},
    "colab_type": "code",
    "id": "uKNLjzqbKs6k"
   },
   "outputs": [],
   "source": [
    "!zip -r /content/results.zip /content/mlmi-miccai_isic/results"
   ]
  },
  {
   "cell_type": "markdown",
   "metadata": {},
   "source": [
    "### Download results.zip (sometimes got issues)"
   ]
  },
  {
   "cell_type": "code",
   "execution_count": null,
   "metadata": {},
   "outputs": [],
   "source": [
    "from google.colab import files\n",
    "files.download('/content/results.zip')"
   ]
  },
  {
   "cell_type": "markdown",
   "metadata": {},
   "source": [
    "### Copy to Drive( it is better to move first to drive due to direct downloading problem)"
   ]
  },
  {
   "cell_type": "code",
   "execution_count": null,
   "metadata": {},
   "outputs": [],
   "source": [
    "from google.colab import drive\n",
    "drive.mount('/content/drive')"
   ]
  },
  {
   "cell_type": "code",
   "execution_count": null,
   "metadata": {},
   "outputs": [],
   "source": [
    "cp /content/results.zip  /content/drive/\"My Drive\"/results.zip "
   ]
  }
 ],
 "metadata": {
  "accelerator": "GPU",
  "colab": {
   "collapsed_sections": [],
   "name": "colab_version_control.ipynb",
   "provenance": []
  },
  "kernelspec": {
   "display_name": "Python 3",
   "language": "python",
   "name": "python3"
  },
  "language_info": {
   "codemirror_mode": {
    "name": "ipython",
    "version": 3
   },
   "file_extension": ".py",
   "mimetype": "text/x-python",
   "name": "python",
   "nbconvert_exporter": "python",
   "pygments_lexer": "ipython3",
   "version": "3.8.3"
  }
 },
 "nbformat": 4,
 "nbformat_minor": 1
}
